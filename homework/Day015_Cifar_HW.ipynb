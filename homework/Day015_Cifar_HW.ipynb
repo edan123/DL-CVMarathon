{
 "cells": [
  {
   "cell_type": "markdown",
   "metadata": {},
   "source": [
    "## 『本次練習內容』\n",
    "#### 運用這幾天所學觀念搭建一個CNN分類器"
   ]
  },
  {
   "cell_type": "markdown",
   "metadata": {},
   "source": [
    "## 『本次練習目的』\n",
    "  #### 熟悉CNN分類器搭建步驟與原理\n",
    "  #### 學員們可以嘗試不同搭法，如使用不同的Maxpooling層，用GlobalAveragePooling取代Flatten等等"
   ]
  },
  {
   "cell_type": "code",
   "execution_count": 1,
   "metadata": {},
   "outputs": [
    {
     "name": "stderr",
     "output_type": "stream",
     "text": [
      "Using TensorFlow backend.\n"
     ]
    }
   ],
   "source": [
    "from keras.models import Sequential\n",
    "from keras.layers import Convolution2D\n",
    "from keras.layers import MaxPooling2D\n",
    "from keras.layers import Flatten\n",
    "from keras.layers import Dense\n",
    "from keras.layers import Dropout\n",
    "from keras.layers import BatchNormalization\n",
    "from keras.datasets import cifar10\n",
    "import numpy as np\n",
    "import tensorflow as tf\n",
    "from sklearn.preprocessing import OneHotEncoder\n"
   ]
  },
  {
   "cell_type": "code",
   "execution_count": 2,
   "metadata": {},
   "outputs": [
    {
     "name": "stdout",
     "output_type": "stream",
     "text": [
      "Downloading data from https://www.cs.toronto.edu/~kriz/cifar-10-python.tar.gz\n",
      "170500096/170498071 [==============================] - 463s 3us/step\n",
      "(50000, 32, 32, 3)\n"
     ]
    }
   ],
   "source": [
    "(x_train, y_train), (x_test, y_test) = cifar10.load_data()\n",
    "\n",
    "print(x_train.shape) #(50000, 32, 32, 3)\n",
    "\n",
    "## Normalize Data\n",
    "def normalize(X_train,X_test):\n",
    "        mean = np.mean(X_train,axis=(0,1,2,3))\n",
    "        std = np.std(X_train, axis=(0, 1, 2, 3))\n",
    "        X_train = (X_train-mean)/(std+1e-7)\n",
    "        X_test = (X_test-mean)/(std+1e-7) \n",
    "        return X_train, X_test,mean,std\n",
    "    \n",
    "    \n",
    "## Normalize Training and Testset    \n",
    "x_train, x_test,mean_train,std_train = normalize(x_train, x_test) "
   ]
  },
  {
   "cell_type": "code",
   "execution_count": 3,
   "metadata": {},
   "outputs": [],
   "source": [
    "## OneHot Label 由(None, 1)-(None, 10)\n",
    "## ex. label=2,變成[0,0,1,0,0,0,0,0,0,0]\n",
    "one_hot=OneHotEncoder()\n",
    "y_train=one_hot.fit_transform(y_train).toarray()\n",
    "y_test=one_hot.transform(y_test).toarray()"
   ]
  },
  {
   "cell_type": "code",
   "execution_count": 8,
   "metadata": {
    "scrolled": false
   },
   "outputs": [
    {
     "name": "stdout",
     "output_type": "stream",
     "text": [
      "WARNING:tensorflow:From C:\\Anaconda3\\envs\\tf1\\lib\\site-packages\\tensorflow_core\\python\\ops\\math_grad.py:1424: where (from tensorflow.python.ops.array_ops) is deprecated and will be removed in a future version.\n",
      "Instructions for updating:\n",
      "Use tf.where in 2.0, which has the same broadcast rule as np.where\n"
     ]
    },
    {
     "name": "stderr",
     "output_type": "stream",
     "text": [
      "C:\\Anaconda3\\envs\\tf1\\lib\\site-packages\\ipykernel_launcher.py:19: UserWarning: Update your `Dense` call to the Keras 2 API: `Dense(activation=\"relu\", units=100)`\n",
      "C:\\Anaconda3\\envs\\tf1\\lib\\site-packages\\ipykernel_launcher.py:22: UserWarning: Update your `Dense` call to the Keras 2 API: `Dense(activation=\"relu\", units=10)`\n"
     ]
    },
    {
     "name": "stdout",
     "output_type": "stream",
     "text": [
      "WARNING:tensorflow:From C:\\Anaconda3\\envs\\tf1\\lib\\site-packages\\keras\\backend\\tensorflow_backend.py:422: The name tf.global_variables is deprecated. Please use tf.compat.v1.global_variables instead.\n",
      "\n",
      "Epoch 1/100\n",
      "50000/50000 [==============================] - 67s 1ms/step - loss: 2.7589 - accuracy: 0.2586\n",
      "Epoch 2/100\n",
      "50000/50000 [==============================] - 73s 1ms/step - loss: 1.9429 - accuracy: 0.3345\n",
      "Epoch 3/100\n",
      "50000/50000 [==============================] - 74s 1ms/step - loss: 1.8397 - accuracy: 0.3821\n",
      "Epoch 4/100\n",
      "50000/50000 [==============================] - 73s 1ms/step - loss: 1.7913 - accuracy: 0.4021\n",
      "Epoch 5/100\n",
      "50000/50000 [==============================] - 73s 1ms/step - loss: 1.8060 - accuracy: 0.3959\n",
      "Epoch 6/100\n",
      "50000/50000 [==============================] - 74s 1ms/step - loss: 1.9804 - accuracy: 0.3116\n",
      "Epoch 7/100\n",
      "50000/50000 [==============================] - 73s 1ms/step - loss: 1.8466 - accuracy: 0.3531\n",
      "Epoch 8/100\n",
      "50000/50000 [==============================] - 73s 1ms/step - loss: 1.9995 - accuracy: 0.2790\n",
      "Epoch 9/100\n",
      "50000/50000 [==============================] - 75s 1ms/step - loss: 1.7866 - accuracy: 0.3873\n",
      "Epoch 10/100\n",
      "50000/50000 [==============================] - 74s 1ms/step - loss: 1.7344 - accuracy: 0.4159\n",
      "Epoch 11/100\n",
      "50000/50000 [==============================] - 74s 1ms/step - loss: 1.6661 - accuracy: 0.4375\n",
      "Epoch 12/100\n",
      "50000/50000 [==============================] - 72s 1ms/step - loss: 1.6124 - accuracy: 0.4639\n",
      "Epoch 13/100\n",
      "50000/50000 [==============================] - 72s 1ms/step - loss: 1.6190 - accuracy: 0.4697\n",
      "Epoch 14/100\n",
      "50000/50000 [==============================] - 72s 1ms/step - loss: 1.5951 - accuracy: 0.4771\n",
      "Epoch 15/100\n",
      "50000/50000 [==============================] - 73s 1ms/step - loss: 1.4982 - accuracy: 0.5060\n",
      "Epoch 16/100\n",
      "50000/50000 [==============================] - 72s 1ms/step - loss: 1.4629 - accuracy: 0.5305\n",
      "Epoch 17/100\n",
      "50000/50000 [==============================] - 72s 1ms/step - loss: 1.7820 - accuracy: 0.4400\n",
      "Epoch 18/100\n",
      "50000/50000 [==============================] - 72s 1ms/step - loss: 1.7808 - accuracy: 0.3965\n",
      "Epoch 19/100\n",
      "50000/50000 [==============================] - 73s 1ms/step - loss: 1.8226 - accuracy: 0.3952\n",
      "Epoch 20/100\n",
      "50000/50000 [==============================] - 72s 1ms/step - loss: 1.6661 - accuracy: 0.4534\n",
      "Epoch 21/100\n",
      "50000/50000 [==============================] - 74s 1ms/step - loss: 1.6472 - accuracy: 0.4553\n",
      "Epoch 22/100\n",
      "50000/50000 [==============================] - 73s 1ms/step - loss: 1.5528 - accuracy: 0.4918\n",
      "Epoch 23/100\n",
      "50000/50000 [==============================] - 74s 1ms/step - loss: 1.4786 - accuracy: 0.5185\n",
      "Epoch 24/100\n",
      "50000/50000 [==============================] - 72s 1ms/step - loss: 1.5570 - accuracy: 0.4914\n",
      "Epoch 25/100\n",
      "50000/50000 [==============================] - 72s 1ms/step - loss: 1.8813 - accuracy: 0.3949\n",
      "Epoch 26/100\n",
      "50000/50000 [==============================] - 72s 1ms/step - loss: 1.8438 - accuracy: 0.3969\n",
      "Epoch 27/100\n",
      "50000/50000 [==============================] - 72s 1ms/step - loss: 1.6777 - accuracy: 0.4547\n",
      "Epoch 28/100\n",
      "50000/50000 [==============================] - 73s 1ms/step - loss: 1.6148 - accuracy: 0.4742\n",
      "Epoch 29/100\n",
      "50000/50000 [==============================] - 76s 2ms/step - loss: 1.5378 - accuracy: 0.4945\n",
      "Epoch 30/100\n",
      "50000/50000 [==============================] - 76s 2ms/step - loss: 1.5106 - accuracy: 0.5119\n",
      "Epoch 31/100\n",
      "50000/50000 [==============================] - 3084s 62ms/step - loss: 1.4837 - accuracy: 0.5233\n",
      "Epoch 32/100\n",
      "50000/50000 [==============================] - 73s 1ms/step - loss: 1.9314 - accuracy: 0.3869\n",
      "Epoch 33/100\n",
      "50000/50000 [==============================] - 72s 1ms/step - loss: 1.7444 - accuracy: 0.3974\n",
      "Epoch 34/100\n",
      "50000/50000 [==============================] - 74s 1ms/step - loss: 1.8018 - accuracy: 0.3742\n",
      "Epoch 35/100\n",
      "50000/50000 [==============================] - 76s 2ms/step - loss: 1.7166 - accuracy: 0.3968\n",
      "Epoch 36/100\n",
      "50000/50000 [==============================] - 73s 1ms/step - loss: 1.6499 - accuracy: 0.4296\n",
      "Epoch 37/100\n",
      "50000/50000 [==============================] - 73s 1ms/step - loss: 1.6513 - accuracy: 0.4369\n",
      "Epoch 38/100\n",
      "50000/50000 [==============================] - 73s 1ms/step - loss: 1.6194 - accuracy: 0.4502\n",
      "Epoch 39/100\n",
      "50000/50000 [==============================] - 73s 1ms/step - loss: 1.5877 - accuracy: 0.4627\n",
      "Epoch 40/100\n",
      "50000/50000 [==============================] - 74s 1ms/step - loss: 1.7083 - accuracy: 0.4003\n",
      "Epoch 41/100\n",
      "50000/50000 [==============================] - 73s 1ms/step - loss: 1.5984 - accuracy: 0.4626\n",
      "Epoch 42/100\n",
      "50000/50000 [==============================] - 1149s 23ms/step - loss: 1.5493 - accuracy: 0.4924\n",
      "Epoch 43/100\n",
      "50000/50000 [==============================] - 72s 1ms/step - loss: 1.4829 - accuracy: 0.5193\n",
      "Epoch 44/100\n",
      "50000/50000 [==============================] - 72s 1ms/step - loss: 1.4775 - accuracy: 0.5221\n",
      "Epoch 45/100\n",
      "50000/50000 [==============================] - 72s 1ms/step - loss: 1.4228 - accuracy: 0.5375\n",
      "Epoch 46/100\n",
      "50000/50000 [==============================] - 74s 1ms/step - loss: 1.3894 - accuracy: 0.5540\n",
      "Epoch 47/100\n",
      "50000/50000 [==============================] - 72s 1ms/step - loss: 1.3629 - accuracy: 0.5658\n",
      "Epoch 48/100\n",
      "50000/50000 [==============================] - 73s 1ms/step - loss: 1.3420 - accuracy: 0.5694\n",
      "Epoch 49/100\n",
      "50000/50000 [==============================] - 72s 1ms/step - loss: 1.3476 - accuracy: 0.5810\n",
      "Epoch 50/100\n",
      "50000/50000 [==============================] - 74s 1ms/step - loss: 1.3443 - accuracy: 0.5848\n",
      "Epoch 51/100\n",
      "50000/50000 [==============================] - 72s 1ms/step - loss: 1.2710 - accuracy: 0.6036\n",
      "Epoch 52/100\n",
      "50000/50000 [==============================] - 72s 1ms/step - loss: 1.2675 - accuracy: 0.6057\n",
      "Epoch 53/100\n",
      "50000/50000 [==============================] - 72s 1ms/step - loss: 1.2858 - accuracy: 0.5987\n",
      "Epoch 54/100\n",
      "50000/50000 [==============================] - 73s 1ms/step - loss: 1.4292 - accuracy: 0.5665\n",
      "Epoch 55/100\n",
      "50000/50000 [==============================] - 73s 1ms/step - loss: 1.3205 - accuracy: 0.5857\n",
      "Epoch 56/100\n",
      "50000/50000 [==============================] - 1506s 30ms/step - loss: 1.2621 - accuracy: 0.6039\n",
      "Epoch 57/100\n",
      "50000/50000 [==============================] - 73s 1ms/step - loss: 1.1828 - accuracy: 0.6268\n",
      "Epoch 58/100\n",
      "50000/50000 [==============================] - 72s 1ms/step - loss: 1.1704 - accuracy: 0.6334\n",
      "Epoch 59/100\n",
      "50000/50000 [==============================] - 72s 1ms/step - loss: 1.1280 - accuracy: 0.6363\n",
      "Epoch 60/100\n",
      "50000/50000 [==============================] - 73s 1ms/step - loss: 1.0817 - accuracy: 0.6574\n",
      "Epoch 61/100\n",
      "50000/50000 [==============================] - 73s 1ms/step - loss: 1.1704 - accuracy: 0.6420\n",
      "Epoch 62/100\n",
      "50000/50000 [==============================] - 72s 1ms/step - loss: 1.1891 - accuracy: 0.6263\n",
      "Epoch 63/100\n",
      "50000/50000 [==============================] - 72s 1ms/step - loss: 1.3653 - accuracy: 0.5896\n",
      "Epoch 64/100\n",
      "50000/50000 [==============================] - 73s 1ms/step - loss: 1.2212 - accuracy: 0.6160\n",
      "Epoch 65/100\n",
      "50000/50000 [==============================] - 136s 3ms/step - loss: 1.1515 - accuracy: 0.6389\n",
      "Epoch 66/100\n",
      "50000/50000 [==============================] - 73s 1ms/step - loss: 1.0879 - accuracy: 0.6550\n",
      "Epoch 67/100\n",
      "50000/50000 [==============================] - 72s 1ms/step - loss: 1.1440 - accuracy: 0.6428\n",
      "Epoch 68/100\n",
      "50000/50000 [==============================] - 71s 1ms/step - loss: nan - accuracy: 0.1663\n",
      "Epoch 69/100\n",
      "50000/50000 [==============================] - 71s 1ms/step - loss: nan - accuracy: 0.1000\n",
      "Epoch 70/100\n",
      "50000/50000 [==============================] - 72s 1ms/step - loss: nan - accuracy: 0.1000\n",
      "Epoch 71/100\n",
      "50000/50000 [==============================] - 72s 1ms/step - loss: nan - accuracy: 0.1000\n",
      "Epoch 72/100\n",
      "50000/50000 [==============================] - 72s 1ms/step - loss: nan - accuracy: 0.1000\n",
      "Epoch 73/100\n",
      "50000/50000 [==============================] - 73s 1ms/step - loss: nan - accuracy: 0.1000\n",
      "Epoch 74/100\n",
      "50000/50000 [==============================] - 72s 1ms/step - loss: nan - accuracy: 0.1000\n",
      "Epoch 75/100\n"
     ]
    },
    {
     "name": "stdout",
     "output_type": "stream",
     "text": [
      "50000/50000 [==============================] - 71s 1ms/step - loss: nan - accuracy: 0.1000\n",
      "Epoch 76/100\n",
      "50000/50000 [==============================] - 71s 1ms/step - loss: nan - accuracy: 0.1000\n",
      "Epoch 77/100\n",
      "50000/50000 [==============================] - 72s 1ms/step - loss: nan - accuracy: 0.1000\n",
      "Epoch 78/100\n",
      "50000/50000 [==============================] - 72s 1ms/step - loss: nan - accuracy: 0.1000\n",
      "Epoch 79/100\n",
      "50000/50000 [==============================] - 71s 1ms/step - loss: nan - accuracy: 0.1000\n",
      "Epoch 80/100\n",
      "50000/50000 [==============================] - 71s 1ms/step - loss: nan - accuracy: 0.1000\n",
      "Epoch 81/100\n",
      "50000/50000 [==============================] - 71s 1ms/step - loss: nan - accuracy: 0.1000\n",
      "Epoch 82/100\n",
      "50000/50000 [==============================] - 72s 1ms/step - loss: nan - accuracy: 0.1000\n",
      "Epoch 83/100\n",
      "50000/50000 [==============================] - 71s 1ms/step - loss: nan - accuracy: 0.1000\n",
      "Epoch 84/100\n",
      "50000/50000 [==============================] - 71s 1ms/step - loss: nan - accuracy: 0.1000\n",
      "Epoch 85/100\n",
      "50000/50000 [==============================] - 71s 1ms/step - loss: nan - accuracy: 0.1000\n",
      "Epoch 86/100\n",
      "50000/50000 [==============================] - 71s 1ms/step - loss: nan - accuracy: 0.1000\n",
      "Epoch 87/100\n",
      "50000/50000 [==============================] - 73s 1ms/step - loss: nan - accuracy: 0.1000\n",
      "Epoch 88/100\n",
      "50000/50000 [==============================] - 71s 1ms/step - loss: nan - accuracy: 0.1000\n",
      "Epoch 89/100\n",
      "50000/50000 [==============================] - 71s 1ms/step - loss: nan - accuracy: 0.1000\n",
      "Epoch 90/100\n",
      "50000/50000 [==============================] - 71s 1ms/step - loss: nan - accuracy: 0.1000\n",
      "Epoch 91/100\n",
      "50000/50000 [==============================] - 71s 1ms/step - loss: nan - accuracy: 0.1000\n",
      "Epoch 92/100\n",
      "50000/50000 [==============================] - 73s 1ms/step - loss: nan - accuracy: 0.1000\n",
      "Epoch 93/100\n",
      "50000/50000 [==============================] - 75s 2ms/step - loss: nan - accuracy: 0.1000\n",
      "Epoch 94/100\n",
      "50000/50000 [==============================] - 74s 1ms/step - loss: nan - accuracy: 0.1000\n",
      "Epoch 95/100\n",
      "50000/50000 [==============================] - 72s 1ms/step - loss: nan - accuracy: 0.1000\n",
      "Epoch 96/100\n",
      "50000/50000 [==============================] - 73s 1ms/step - loss: nan - accuracy: 0.1000\n",
      "Epoch 97/100\n",
      "50000/50000 [==============================] - 74s 1ms/step - loss: nan - accuracy: 0.1000\n",
      "Epoch 98/100\n",
      "50000/50000 [==============================] - 71s 1ms/step - loss: nan - accuracy: 0.1000\n",
      "Epoch 99/100\n",
      "50000/50000 [==============================] - 71s 1ms/step - loss: nan - accuracy: 0.1000\n",
      "Epoch 100/100\n",
      "50000/50000 [==============================] - 71s 1ms/step - loss: nan - accuracy: 0.1000\n"
     ]
    },
    {
     "data": {
      "text/plain": [
       "<keras.callbacks.callbacks.History at 0x201c56e2348>"
      ]
     },
     "execution_count": 8,
     "metadata": {},
     "output_type": "execute_result"
    }
   ],
   "source": [
    "\n",
    "classifier=Sequential()\n",
    "\n",
    "#卷積組合\n",
    "classifier.add(Convolution2D(32, kernel_size=(3, 3), input_shape=(32,32,3),activation='relu'))#32,3,3,input_shape=(32,32,3),activation='relu''\n",
    "classifier.add(BatchNormalization())\n",
    "\n",
    "# '''自己決定MaxPooling2D放在哪裡'''\n",
    "#classifier.add(MaxPooling2D(pool_size=(2,2)))\n",
    "\n",
    "#卷積組合\n",
    "classifier.add(Convolution2D(32, kernel_size=(3, 3), input_shape=(32,32,3),activation='relu'))\n",
    "classifier.add(MaxPooling2D(pool_size=(2,2)))\n",
    "classifier.add(BatchNormalization())\n",
    "\n",
    "#flatten\n",
    "classifier.add(Flatten())\n",
    "\n",
    "#FC\n",
    "classifier.add(Dense(output_dim=100,activation='relu')) #output_dim=100,activation=relu\n",
    "\n",
    "#輸出\n",
    "classifier.add(Dense(output_dim=10,activation='relu'))\n",
    "\n",
    "#超過兩個就要選categorical_crossentrophy\n",
    "classifier.compile(optimizer = 'adam', loss = 'categorical_crossentropy', metrics = ['accuracy'])\n",
    "classifier.fit(x_train,y_train,batch_size=100,epochs=100)"
   ]
  },
  {
   "cell_type": "markdown",
   "metadata": {},
   "source": [
    "## 預測新圖片，輸入影像前處理要與訓練時相同\n",
    "#### ((X-mean)/(std+1e-7) ):這裡的mean跟std是訓練集的\n",
    "## 維度如下方示範"
   ]
  },
  {
   "cell_type": "code",
   "execution_count": 9,
   "metadata": {},
   "outputs": [
    {
     "data": {
      "text/plain": [
       "array([[nan, nan, nan, nan, nan, nan, nan, nan, nan, nan]], dtype=float32)"
      ]
     },
     "execution_count": 9,
     "metadata": {},
     "output_type": "execute_result"
    }
   ],
   "source": [
    "input_example=(np.zeros(shape=(1,32,32,3))-mean_train)/(std_train+1e-7) \n",
    "classifier.predict(input_example)"
   ]
  }
 ],
 "metadata": {
  "kernelspec": {
   "display_name": "Python 3",
   "language": "python",
   "name": "python3"
  },
  "language_info": {
   "codemirror_mode": {
    "name": "ipython",
    "version": 3
   },
   "file_extension": ".py",
   "mimetype": "text/x-python",
   "name": "python",
   "nbconvert_exporter": "python",
   "pygments_lexer": "ipython3",
   "version": "3.7.7"
  }
 },
 "nbformat": 4,
 "nbformat_minor": 2
}
